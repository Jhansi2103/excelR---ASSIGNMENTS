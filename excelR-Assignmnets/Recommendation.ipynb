{
  "nbformat": 4,
  "nbformat_minor": 0,
  "metadata": {
    "colab": {
      "provenance": []
    },
    "kernelspec": {
      "name": "python3",
      "display_name": "Python 3"
    },
    "language_info": {
      "name": "python"
    }
  },
  "cells": [
    {
      "cell_type": "markdown",
      "source": [
        "NAME: **SULEGAMA JHANSI**\n",
        "\n",
        "COURSE: **DATA SCIENCE (3PM TO 5PM)**\n",
        "\n",
        "INCHARGE: **PANAM SRAVANI**\n"
      ],
      "metadata": {
        "id": "tc2Sx3ouuM7V"
      }
    },
    {
      "cell_type": "markdown",
      "source": [
        "#Recommendation System"
      ],
      "metadata": {
        "id": "cEqlmP4owLHm"
      }
    },
    {
      "cell_type": "code",
      "source": [
        "import pandas as pd\n",
        "\n",
        "# Load the dataset\n",
        "anime_df = pd.read_csv(\"anime.csv\")  # Replace with the correct file path\n",
        "\n",
        "# Display basic info\n",
        "print(anime_df.info())\n",
        "\n",
        "# View sample data\n",
        "print(anime_df.head())"
      ],
      "metadata": {
        "colab": {
          "base_uri": "https://localhost:8080/"
        },
        "id": "Vxfr-uawambB",
        "outputId": "11799611-90df-40fe-dc4d-45eab794c046"
      },
      "execution_count": 69,
      "outputs": [
        {
          "output_type": "stream",
          "name": "stdout",
          "text": [
            "<class 'pandas.core.frame.DataFrame'>\n",
            "RangeIndex: 12294 entries, 0 to 12293\n",
            "Data columns (total 7 columns):\n",
            " #   Column    Non-Null Count  Dtype  \n",
            "---  ------    --------------  -----  \n",
            " 0   anime_id  12294 non-null  int64  \n",
            " 1   name      12294 non-null  object \n",
            " 2   genre     12232 non-null  object \n",
            " 3   type      12269 non-null  object \n",
            " 4   episodes  12294 non-null  object \n",
            " 5   rating    12064 non-null  float64\n",
            " 6   members   12294 non-null  int64  \n",
            "dtypes: float64(1), int64(2), object(4)\n",
            "memory usage: 672.5+ KB\n",
            "None\n",
            "   anime_id                              name  \\\n",
            "0     32281                    Kimi no Na wa.   \n",
            "1      5114  Fullmetal Alchemist: Brotherhood   \n",
            "2     28977                          Gintama°   \n",
            "3      9253                       Steins;Gate   \n",
            "4      9969                     Gintama&#039;   \n",
            "\n",
            "                                               genre   type episodes  rating  \\\n",
            "0               Drama, Romance, School, Supernatural  Movie        1    9.37   \n",
            "1  Action, Adventure, Drama, Fantasy, Magic, Mili...     TV       64    9.26   \n",
            "2  Action, Comedy, Historical, Parody, Samurai, S...     TV       51    9.25   \n",
            "3                                   Sci-Fi, Thriller     TV       24    9.17   \n",
            "4  Action, Comedy, Historical, Parody, Samurai, S...     TV       51    9.16   \n",
            "\n",
            "   members  \n",
            "0   200630  \n",
            "1   793665  \n",
            "2   114262  \n",
            "3   673572  \n",
            "4   151266  \n"
          ]
        }
      ]
    },
    {
      "cell_type": "code",
      "source": [
        "# Drop rows with missing titles or genres\n",
        "anime_df = anime_df.dropna(subset=['name', 'genre'])\n",
        "\n",
        "# Fill missing episodes with a default value (e.g., 0)\n",
        "anime_df['episodes'] = anime_df['episodes'].replace('Unknown', 0).astype(int)\n",
        "\n",
        "# Fill missing ratings with the mean\n",
        "anime_df['rating'] = anime_df['rating'].fillna(anime_df['rating'].mean())"
      ],
      "metadata": {
        "colab": {
          "base_uri": "https://localhost:8080/"
        },
        "id": "dA7Z_4Gza37q",
        "outputId": "5b53a097-eb26-4761-f621-e4397b608e55"
      },
      "execution_count": 70,
      "outputs": [
        {
          "output_type": "stream",
          "name": "stderr",
          "text": [
            "<ipython-input-70-3deacfdcc7ba>:5: SettingWithCopyWarning: \n",
            "A value is trying to be set on a copy of a slice from a DataFrame.\n",
            "Try using .loc[row_indexer,col_indexer] = value instead\n",
            "\n",
            "See the caveats in the documentation: https://pandas.pydata.org/pandas-docs/stable/user_guide/indexing.html#returning-a-view-versus-a-copy\n",
            "  anime_df['episodes'] = anime_df['episodes'].replace('Unknown', 0).astype(int)\n",
            "<ipython-input-70-3deacfdcc7ba>:8: SettingWithCopyWarning: \n",
            "A value is trying to be set on a copy of a slice from a DataFrame.\n",
            "Try using .loc[row_indexer,col_indexer] = value instead\n",
            "\n",
            "See the caveats in the documentation: https://pandas.pydata.org/pandas-docs/stable/user_guide/indexing.html#returning-a-view-versus-a-copy\n",
            "  anime_df['rating'] = anime_df['rating'].fillna(anime_df['rating'].mean())\n"
          ]
        }
      ]
    },
    {
      "cell_type": "code",
      "source": [
        "# Split genre into multiple binary features\n",
        "anime_genres = anime_df['genre'].str.get_dummies(sep=', ')\n",
        "\n",
        "# Combine with main dataframe\n",
        "anime_features = pd.concat([anime_df[['name', 'type', 'episodes', 'rating', 'members']], anime_genres], axis=1)\n",
        "\n",
        "# Optional: normalize numerical features\n",
        "from sklearn.preprocessing import MinMaxScaler\n",
        "\n",
        "scaler = MinMaxScaler()\n",
        "anime_features[['episodes', 'rating', 'members']] = scaler.fit_transform(anime_features[['episodes', 'rating', 'members']])\n",
        "\n"
      ],
      "metadata": {
        "id": "U-pQ1HcQbCvz"
      },
      "execution_count": 71,
      "outputs": []
    },
    {
      "cell_type": "code",
      "source": [
        "from sklearn.metrics.pairwise import cosine_similarity # Import the cosine_similarity function"
      ],
      "metadata": {
        "id": "pERaLs0jbFJI"
      },
      "execution_count": 73,
      "outputs": []
    },
    {
      "cell_type": "code",
      "source": [
        "# Assuming 'anime_features' is your DataFrame\n",
        "\n",
        "# Select only the numerical features for cosine similarity calculation\n",
        "numerical_features = anime_features.select_dtypes(include=['number'])\n",
        "\n",
        "# Now calculate cosine similarity\n",
        "cosine_sim = cosine_similarity(numerical_features)\n",
        "\n",
        "# Index mapping for anime names (adjust if necessary)\n",
        "anime_df = anime_df.reset_index(drop=True)\n",
        "indices = pd.Series(anime_df.index, index=anime_df['name']).drop_duplicates()"
      ],
      "metadata": {
        "id": "p80yxf8mbH_A"
      },
      "execution_count": 74,
      "outputs": []
    },
    {
      "cell_type": "code",
      "source": [
        "# Step 4: Recommendation Function\n",
        "def recommend_anime(title, top_n=10, similarity_threshold=0.5):\n",
        "    if title not in indices:\n",
        "        return f\"Anime '{title}' not found in the dataset.\"\n",
        "\n",
        "    idx = indices[title]\n",
        "    sim_scores = list(enumerate(cosine_sim[idx]))\n",
        "    sim_scores = sorted(sim_scores, key=lambda x: x[1], reverse=True)\n",
        "\n",
        "    # Filter by threshold and remove itself\n",
        "    sim_scores = [score for score in sim_scores if score[0] != idx and score[1] >= similarity_threshold]\n",
        "    top_similar = sim_scores[:top_n]\n",
        "\n",
        "    anime_indices = [i[0] for i in top_similar]\n",
        "    return anime_df[['name', 'genre', 'rating']].iloc[anime_indices]\n",
        "\n",
        "# Example usage\n",
        "title_input = \"Naruto\"  # Change this to test other anime\n",
        "recommendations = recommend_anime(title_input)\n",
        "print(f\"\\nTop recommendations similar to '{title_input}':\\n\")\n",
        "print(recommendations)"
      ],
      "metadata": {
        "colab": {
          "base_uri": "https://localhost:8080/"
        },
        "id": "yiHUWSDmbOuq",
        "outputId": "f167db0e-9347-427c-8f1c-a71463e5cd36"
      },
      "execution_count": 76,
      "outputs": [
        {
          "output_type": "stream",
          "name": "stdout",
          "text": [
            "\n",
            "Top recommendations similar to 'Naruto':\n",
            "\n",
            "                                                   name  \\\n",
            "615                                  Naruto: Shippuuden   \n",
            "1472        Naruto: Shippuuden Movie 4 - The Lost Tower   \n",
            "1573  Naruto: Shippuuden Movie 3 - Hi no Ishi wo Tsu...   \n",
            "486                            Boruto: Naruto the Movie   \n",
            "1343                                        Naruto x UT   \n",
            "2996  Naruto Soyokazeden Movie: Naruto to Mashin to ...   \n",
            "1103  Boruto: Naruto the Movie - Naruto ga Hokage ni...   \n",
            "2458               Naruto Shippuuden: Sunny Side Battle   \n",
            "175                              Katekyo Hitman Reborn!   \n",
            "7617                            Kyutai Panic Adventure!   \n",
            "\n",
            "                                                  genre  rating  \n",
            "615   Action, Comedy, Martial Arts, Shounen, Super P...    7.94  \n",
            "1472  Action, Comedy, Martial Arts, Shounen, Super P...    7.53  \n",
            "1573  Action, Comedy, Martial Arts, Shounen, Super P...    7.50  \n",
            "486   Action, Comedy, Martial Arts, Shounen, Super P...    8.03  \n",
            "1343  Action, Comedy, Martial Arts, Shounen, Super P...    7.58  \n",
            "2996  Action, Comedy, Martial Arts, Shounen, Super P...    7.11  \n",
            "1103  Action, Comedy, Martial Arts, Shounen, Super P...    7.68  \n",
            "2458  Action, Comedy, Martial Arts, Shounen, Super P...    7.26  \n",
            "175                Action, Comedy, Shounen, Super Power    8.37  \n",
            "7617         Action, Martial Arts, Shounen, Super Power    5.21  \n"
          ]
        }
      ]
    },
    {
      "cell_type": "markdown",
      "source": [
        "**1. Can you explain the difference between user-based and item-based collaborative filtering?**\n",
        "\n",
        "User-based collaborative filtering:\n",
        "\n",
        "Recommends items based on what similar users liked.\n",
        "\n",
        "For example, if User A and User B liked the same movies, and User A liked another movie, then User B might also like it.\n",
        "\n",
        "Item-based collaborative filtering:\n",
        "\n",
        "Recommends items based on similar items.\n",
        "\n",
        "For example, if Movie X and Movie Y are liked by the same users, and a user liked Movie X, they might also like Movie Y.\n",
        "\n",
        "\n",
        "\n",
        "\n",
        "**2. What is collaborative filtering, and how does it work?**\n",
        "\n",
        "Collaborative filtering is a recommendation technique that suggests items to a user based on preferences of other users.\n",
        "\n",
        "How it works:\n",
        "\n",
        "It looks at user behavior (ratings, purchases, likes).\n",
        "\n",
        "Finds users/items with similar patterns.\n",
        "\n",
        "Predicts what a user might like based on that similarity.\n",
        "\n"
      ],
      "metadata": {
        "id": "3g78QoR7bnnP"
      }
    },
    {
      "cell_type": "markdown",
      "source": [],
      "metadata": {
        "id": "SCPC6B_gbnjp"
      }
    }
  ]
}