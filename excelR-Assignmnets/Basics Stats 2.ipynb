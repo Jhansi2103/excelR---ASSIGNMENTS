{
  "nbformat": 4,
  "nbformat_minor": 0,
  "metadata": {
    "colab": {
      "provenance": []
    },
    "kernelspec": {
      "name": "python3",
      "display_name": "Python 3"
    },
    "language_info": {
      "name": "python"
    }
  },
  "cells": [
    {
      "cell_type": "markdown",
      "source": [
        "NAME: **SULEGAMA JHANSI**\n",
        "\n",
        "COURSE: **DATA SCIENCE (3PM TO 5PM)**\n",
        "\n",
        "INCHARGE: **PANAM SRAVANI**\n"
      ],
      "metadata": {
        "id": "_jo1dpFvq2bV"
      }
    },
    {
      "cell_type": "markdown",
      "source": [
        "#2.Estimation And Confidence Intervals"
      ],
      "metadata": {
        "id": "n-pdlc8nqPlL"
      }
    },
    {
      "cell_type": "code",
      "execution_count": 1,
      "metadata": {
        "id": "1u9Kj3pgqN12"
      },
      "outputs": [],
      "source": [
        "import numpy as np\n",
        "import scipy.stats as stats"
      ]
    },
    {
      "cell_type": "code",
      "source": [
        "# Durability data (in millions of characters)\n",
        "data = np.array([1.13, 1.55, 1.43, 0.92, 1.25, 1.36, 1.32, 0.85, 1.07, 1.48, 1.20, 1.33, 1.18, 1.22, 1.29])\n"
      ],
      "metadata": {
        "id": "KXlpkWwtqX7O"
      },
      "execution_count": 2,
      "outputs": []
    },
    {
      "cell_type": "code",
      "source": [
        "n = len(data)\n",
        "sample_mean = np.mean(data)\n",
        "sample_std = np.std(data, ddof=1)"
      ],
      "metadata": {
        "id": "Il_SELCeqaxf"
      },
      "execution_count": 3,
      "outputs": []
    },
    {
      "cell_type": "code",
      "source": [
        "# Confidence level\n",
        "confidence_level = 0.99\n",
        "alpha = 1 - confidence_level"
      ],
      "metadata": {
        "id": "IQ8jnXZuqceg"
      },
      "execution_count": 4,
      "outputs": []
    },
    {
      "cell_type": "markdown",
      "source": [
        "# (a) Confidence Interval using Sample Standard Deviation (t-distribution)"
      ],
      "metadata": {
        "id": "A_EAMtv0qgRh"
      }
    },
    {
      "cell_type": "code",
      "source": [
        "df = n - 1  # Degrees of freedom\n",
        "t_critical = stats.t.ppf(1 - alpha/2, df)"
      ],
      "metadata": {
        "id": "W7JlFrhJqd-9"
      },
      "execution_count": 5,
      "outputs": []
    },
    {
      "cell_type": "code",
      "source": [
        "margin_of_error_t = t_critical * (sample_std / np.sqrt(n))"
      ],
      "metadata": {
        "id": "tq0CVJNaqjFT"
      },
      "execution_count": 6,
      "outputs": []
    },
    {
      "cell_type": "code",
      "source": [
        "ci_t = (sample_mean - margin_of_error_t, sample_mean + margin_of_error_t)\n",
        "\n",
        "print(f\"99% Confidence Interval using Sample Standard Deviation (t-distribution): {ci_t}\")"
      ],
      "metadata": {
        "colab": {
          "base_uri": "https://localhost:8080/"
        },
        "id": "F3rInHUDqktT",
        "outputId": "c8393b6d-7abc-49fb-ccd3-cb8f33e5159e"
      },
      "execution_count": 7,
      "outputs": [
        {
          "output_type": "stream",
          "name": "stdout",
          "text": [
            "99% Confidence Interval using Sample Standard Deviation (t-distribution): (np.float64(1.0901973384384906), np.float64(1.3871359948948425))\n"
          ]
        }
      ]
    },
    {
      "cell_type": "markdown",
      "source": [
        "#(b) Confidence Interval using Known Population Standard Deviation (z-distribution)"
      ],
      "metadata": {
        "id": "8T4REHPaqpKS"
      }
    },
    {
      "cell_type": "code",
      "source": [
        "pop_std = 0.2  # Given population standard deviation\n",
        "z_critical = stats.norm.ppf(1 - alpha/2)"
      ],
      "metadata": {
        "id": "bFkfdOH8qnAL"
      },
      "execution_count": 8,
      "outputs": []
    },
    {
      "cell_type": "code",
      "source": [
        "margin_of_error_z = z_critical * (pop_std / np.sqrt(n))"
      ],
      "metadata": {
        "id": "qJYb95jwqsar"
      },
      "execution_count": 9,
      "outputs": []
    },
    {
      "cell_type": "code",
      "source": [
        "ci_z = (sample_mean - margin_of_error_z, sample_mean + margin_of_error_z)\n",
        "\n",
        "print(f\"99% Confidence Interval using Known Population Standard Deviation (z-distribution): {ci_z}\")"
      ],
      "metadata": {
        "colab": {
          "base_uri": "https://localhost:8080/"
        },
        "id": "Pdo4O1dNqwJB",
        "outputId": "991270b9-7a41-4966-ae5c-552f829512ee"
      },
      "execution_count": 10,
      "outputs": [
        {
          "output_type": "stream",
          "name": "stdout",
          "text": [
            "99% Confidence Interval using Known Population Standard Deviation (z-distribution): (np.float64(1.1056514133957607), np.float64(1.3716819199375725))\n"
          ]
        }
      ]
    },
    {
      "cell_type": "code",
      "source": [],
      "metadata": {
        "id": "LlV1QT8vq1E3"
      },
      "execution_count": null,
      "outputs": []
    }
  ]
}