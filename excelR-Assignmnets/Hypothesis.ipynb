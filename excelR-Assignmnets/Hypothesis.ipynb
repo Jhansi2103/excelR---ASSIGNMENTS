{
  "nbformat": 4,
  "nbformat_minor": 0,
  "metadata": {
    "colab": {
      "provenance": []
    },
    "kernelspec": {
      "name": "python3",
      "display_name": "Python 3"
    },
    "language_info": {
      "name": "python"
    }
  },
  "cells": [
    {
      "cell_type": "markdown",
      "source": [
        "NAME: **SULEGAMA JHANSI**\n",
        "\n",
        "COURSE: **DATA SCIENCE (3PM TO 5PM)**\n",
        "\n",
        "INCHARGE: **PANAM SRAVANI**\n"
      ],
      "metadata": {
        "id": "fjMtGI9ZrGlZ"
      }
    },
    {
      "cell_type": "markdown",
      "source": [
        "#4(a).CHI-SQUARE TEST\n",
        "Association between Device Type and Customer Satisfaction\n"
      ],
      "metadata": {
        "id": "ewf1Fomzs2uM"
      }
    },
    {
      "cell_type": "code",
      "source": [
        "import numpy as np\n",
        "import scipy.stats as stats"
      ],
      "metadata": {
        "id": "yONUBdRdrygf"
      },
      "execution_count": 7,
      "outputs": []
    },
    {
      "cell_type": "code",
      "source": [
        "# Contingency Table (Observed Frequencies)\n",
        "observed = np.array([\n",
        "    [50, 70],  # Very Satisfied\n",
        "    [80, 100], # Satisfied\n",
        "    [60, 90],  # Neutral\n",
        "    [30, 50],  # Unsatisfied\n",
        "    [20, 50]   # Very Unsatisfied\n",
        "])\n"
      ],
      "metadata": {
        "id": "ue1gFA4ts7P-"
      },
      "execution_count": 8,
      "outputs": []
    },
    {
      "cell_type": "code",
      "source": [
        "# Compute Chi-Square Statistic\n",
        "chi2_stat, p_value, dof, expected = stats.chi2_contingency(observed)\n",
        "\n",
        "# Determine Critical Value for alpha = 0.05 and degrees of freedom (dof)\n",
        "alpha = 0.05\n",
        "critical_value = stats.chi2.ppf(1 - alpha, dof)"
      ],
      "metadata": {
        "id": "gsLdsGcds87i"
      },
      "execution_count": 9,
      "outputs": []
    },
    {
      "cell_type": "code",
      "source": [
        "# Print results\n",
        "print(f\"Chi-Square Statistic: {chi2_stat:.4f}\")\n",
        "print(f\"Degrees of Freedom: {dof}\")\n",
        "print(f\"Critical Value: {critical_value:.4f}\")\n",
        "print(f\"P-Value: {p_value:.4f}\")\n"
      ],
      "metadata": {
        "colab": {
          "base_uri": "https://localhost:8080/"
        },
        "id": "l0LWONWjtAau",
        "outputId": "fe0f842d-f133-4d26-dac3-45b3d80d2363"
      },
      "execution_count": 10,
      "outputs": [
        {
          "output_type": "stream",
          "name": "stdout",
          "text": [
            "Chi-Square Statistic: 5.6382\n",
            "Degrees of Freedom: 4\n",
            "Critical Value: 9.4877\n",
            "P-Value: 0.2278\n"
          ]
        }
      ]
    },
    {
      "cell_type": "code",
      "source": [
        "# Decision Making\n",
        "if chi2_stat > critical_value:\n",
        "    print(\"Reject the null hypothesis: There is a significant association between device type and customer satisfaction.\")\n",
        "else:\n",
        "    print(\"Fail to reject the null hypothesis: No significant association between device type and customer satisfaction.\")\n"
      ],
      "metadata": {
        "colab": {
          "base_uri": "https://localhost:8080/"
        },
        "id": "PWG1tSvFtCjB",
        "outputId": "a0e14314-58b9-440c-fa96-f3a8a71a5962"
      },
      "execution_count": 11,
      "outputs": [
        {
          "output_type": "stream",
          "name": "stdout",
          "text": [
            "Fail to reject the null hypothesis: No significant association between device type and customer satisfaction.\n"
          ]
        }
      ]
    },
    {
      "cell_type": "markdown",
      "source": [
        "#4(b).HYPOTHESIS TESTING\n",
        "\n",
        "To investigate the restaurant owners' claim about the increase in weekly operating costs using hypothesis testing\n"
      ],
      "metadata": {
        "id": "ry_rzEVQtM5F"
      }
    },
    {
      "cell_type": "code",
      "source": [
        "import scipy.stats as stats\n",
        "import numpy as np"
      ],
      "metadata": {
        "id": "WMUJzBTTtFFl"
      },
      "execution_count": 12,
      "outputs": []
    },
    {
      "cell_type": "code",
      "source": [
        "# Step 1: Define Hypotheses\n",
        "# H0: The weekly operating cost follows the theoretical model (W = 1000 + 5X)\n",
        "# H1: The weekly operating cost is higher than the theoretical model\n",
        "\n",
        "# Given Data\n",
        "sample_mean = 3050  # Sample mean weekly cost\n",
        "theoretical_mean = 1000 + (5 * 600)  # Model-based weekly cost\n",
        "sigma = 5 * 25  # Standard deviation\n",
        "n = 25  # Sample size\n",
        "alpha = 0.05  # Significance level\n"
      ],
      "metadata": {
        "id": "Ycw5i3eRtSWL"
      },
      "execution_count": 13,
      "outputs": []
    },
    {
      "cell_type": "code",
      "source": [
        "# Step 2: Compute Test Statistic (Z-score)\n",
        "z_stat = (sample_mean - theoretical_mean) / (sigma / np.sqrt(n))\n"
      ],
      "metadata": {
        "id": "8Dy4WdndtVpJ"
      },
      "execution_count": 14,
      "outputs": []
    },
    {
      "cell_type": "code",
      "source": [
        "# Step 3: Determine Critical Value for alpha = 0.05 (one-tailed test)\n",
        "critical_value = stats.norm.ppf(1 - alpha)"
      ],
      "metadata": {
        "id": "BNS4SlkptXrs"
      },
      "execution_count": 15,
      "outputs": []
    },
    {
      "cell_type": "code",
      "source": [
        "# Step 4: Decision Making\n",
        "print(f\"Test Statistic (Z-score): {z_stat:.4f}\")\n",
        "print(f\"Critical Value: {critical_value:.4f}\")\n",
        "\n",
        "if z_stat > critical_value:\n",
        "    print(\"Reject the null hypothesis: The weekly operating costs are significantly higher than the model suggests.\")\n",
        "else:\n",
        "    print(\"Fail to reject the null hypothesis: No strong evidence that operating costs are higher.\")\n"
      ],
      "metadata": {
        "id": "D1fxQyudtawo",
        "outputId": "3580d95e-6a29-496d-9625-a73daae3ce0f",
        "colab": {
          "base_uri": "https://localhost:8080/"
        }
      },
      "execution_count": 16,
      "outputs": [
        {
          "output_type": "stream",
          "name": "stdout",
          "text": [
            "Test Statistic (Z-score): -38.0000\n",
            "Critical Value: 1.6449\n",
            "Fail to reject the null hypothesis: No strong evidence that operating costs are higher.\n"
          ]
        }
      ]
    },
    {
      "cell_type": "code",
      "source": [],
      "metadata": {
        "id": "MMcSfmsctdwR"
      },
      "execution_count": null,
      "outputs": []
    }
  ]
}