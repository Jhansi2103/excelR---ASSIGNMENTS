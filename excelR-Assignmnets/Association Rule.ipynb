{
  "nbformat": 4,
  "nbformat_minor": 0,
  "metadata": {
    "colab": {
      "provenance": []
    },
    "kernelspec": {
      "name": "python3",
      "display_name": "Python 3"
    },
    "language_info": {
      "name": "python"
    }
  },
  "cells": [
    {
      "cell_type": "markdown",
      "source": [
        "NAME: **SULEGAMA JHANSI**\n",
        "\n",
        "COURSE: **DATA SCIENCE (3PM TO 5PM)**\n",
        "\n",
        "INCHARGE: **PANAM SRAVANI**"
      ],
      "metadata": {
        "id": "creJUO2y3O0z"
      }
    },
    {
      "cell_type": "code",
      "source": [
        "import pandas as pd\n",
        "from mlxtend.preprocessing import TransactionEncoder\n",
        "from mlxtend.frequent_patterns import apriori, association_rules\n"
      ],
      "metadata": {
        "id": "VYrx0jqS4Kes"
      },
      "execution_count": 7,
      "outputs": []
    },
    {
      "cell_type": "code",
      "source": [
        "#load data set\n",
        "df = pd.read_excel(\"/content/Online retail.xlsx\", header=None)"
      ],
      "metadata": {
        "id": "i_0yA9RX5h-4"
      },
      "execution_count": 8,
      "outputs": []
    },
    {
      "cell_type": "code",
      "source": [
        "#DAta Preprocessing\n",
        "transactions = df[0].dropna().apply(lambda row: [item.strip() for item in row.split(',')]).tolist()"
      ],
      "metadata": {
        "id": "3QogufJA5jk8"
      },
      "execution_count": 9,
      "outputs": []
    },
    {
      "cell_type": "code",
      "source": [
        "# Step 4: Encode transactions\n",
        "te = TransactionEncoder()\n",
        "te_array = te.fit(transactions).transform(transactions)\n",
        "basket_df = pd.DataFrame(te_array, columns=te.columns_)"
      ],
      "metadata": {
        "id": "_QQ7wTIl5luz"
      },
      "execution_count": 10,
      "outputs": []
    },
    {
      "cell_type": "code",
      "source": [
        "# Step 5: Generate frequent itemsets using Apriori\n",
        "frequent_itemsets = apriori(basket_df, min_support=0.03, use_colnames=True)\n"
      ],
      "metadata": {
        "id": "mZG2xNW859P3"
      },
      "execution_count": 15,
      "outputs": []
    },
    {
      "source": [
        "# Step 6: Generate association rules\n",
        "from mlxtend.frequent_patterns import association_rules\n",
        "rules = association_rules(frequent_itemsets, metric=\"lift\", min_threshold=1)\n",
        "\n",
        "# Step 7: Display frequent itemsets\n",
        "print(\"=== FREQUENT ITEMSETS ===\")\n",
        "print(frequent_itemsets)\n",
        "\n",
        "# Step 8: Display association rules\n",
        "print(\"\\n=== ASSOCIATION RULES ===\")\n",
        "print(rules[['antecedents', 'consequents', 'support', 'confidence', 'lift']])"
      ],
      "cell_type": "code",
      "metadata": {
        "colab": {
          "base_uri": "https://localhost:8080/"
        },
        "id": "fJY-PDww50bv",
        "outputId": "997d08af-5c1c-42ca-dcb9-8003ca0061f2"
      },
      "execution_count": 14,
      "outputs": [
        {
          "output_type": "stream",
          "name": "stdout",
          "text": [
            "=== FREQUENT ITEMSETS ===\n",
            "     support                            itemsets\n",
            "0   0.033329                           (avocado)\n",
            "1   0.033729                          (brownies)\n",
            "2   0.087188                           (burgers)\n",
            "3   0.030129                            (butter)\n",
            "4   0.081056                              (cake)\n",
            "5   0.046794                         (champagne)\n",
            "6   0.059992                           (chicken)\n",
            "7   0.163845                         (chocolate)\n",
            "8   0.080389                           (cookies)\n",
            "9   0.051060                       (cooking oil)\n",
            "10  0.031862                    (cottage cheese)\n",
            "11  0.179709                              (eggs)\n",
            "12  0.079323                          (escalope)\n",
            "13  0.170911                      (french fries)\n",
            "14  0.043061                       (fresh bread)\n",
            "15  0.063325                   (frozen smoothie)\n",
            "16  0.095321                 (frozen vegetables)\n",
            "17  0.052393                     (grated cheese)\n",
            "18  0.132116                         (green tea)\n",
            "19  0.098254                       (ground beef)\n",
            "20  0.049460                     (herb & pepper)\n",
            "21  0.047460                             (honey)\n",
            "22  0.032396                          (hot dogs)\n",
            "23  0.076523                    (low fat yogurt)\n",
            "24  0.129583                              (milk)\n",
            "25  0.238368                     (mineral water)\n",
            "26  0.065858                         (olive oil)\n",
            "27  0.095054                          (pancakes)\n",
            "28  0.042528                            (salmon)\n",
            "29  0.071457                            (shrimp)\n",
            "30  0.050527                              (soup)\n",
            "31  0.174110                         (spaghetti)\n",
            "32  0.030396                      (tomato juice)\n",
            "33  0.068391                          (tomatoes)\n",
            "34  0.062525                            (turkey)\n",
            "35  0.058526                  (whole wheat rice)\n",
            "36  0.033196                   (chocolate, eggs)\n",
            "37  0.034395           (chocolate, french fries)\n",
            "38  0.032129                   (chocolate, milk)\n",
            "39  0.052660          (mineral water, chocolate)\n",
            "40  0.039195              (spaghetti, chocolate)\n",
            "41  0.036395                (french fries, eggs)\n",
            "42  0.030796                        (milk, eggs)\n",
            "43  0.050927               (mineral water, eggs)\n",
            "44  0.036528                   (spaghetti, eggs)\n",
            "45  0.033729       (mineral water, french fries)\n",
            "46  0.035729  (frozen vegetables, mineral water)\n",
            "47  0.031063          (mineral water, green tea)\n",
            "48  0.040928        (mineral water, ground beef)\n",
            "49  0.039195            (spaghetti, ground beef)\n",
            "50  0.047994               (mineral water, milk)\n",
            "51  0.035462                   (spaghetti, milk)\n",
            "52  0.033729           (pancakes, mineral water)\n",
            "53  0.059725          (spaghetti, mineral water)\n",
            "\n",
            "=== ASSOCIATION RULES ===\n",
            "            antecedents          consequents   support  confidence      lift\n",
            "0           (chocolate)               (eggs)  0.033196    0.202604  1.127397\n",
            "1                (eggs)          (chocolate)  0.033196    0.184718  1.127397\n",
            "2           (chocolate)       (french fries)  0.034395    0.209927  1.228284\n",
            "3        (french fries)          (chocolate)  0.034395    0.201248  1.228284\n",
            "4           (chocolate)               (milk)  0.032129    0.196094  1.513276\n",
            "5                (milk)          (chocolate)  0.032129    0.247942  1.513276\n",
            "6       (mineral water)          (chocolate)  0.052660    0.220917  1.348332\n",
            "7           (chocolate)      (mineral water)  0.052660    0.321400  1.348332\n",
            "8           (spaghetti)          (chocolate)  0.039195    0.225115  1.373952\n",
            "9           (chocolate)          (spaghetti)  0.039195    0.239219  1.373952\n",
            "10       (french fries)               (eggs)  0.036395    0.212949  1.184961\n",
            "11               (eggs)       (french fries)  0.036395    0.202522  1.184961\n",
            "12               (milk)               (eggs)  0.030796    0.237654  1.322437\n",
            "13               (eggs)               (milk)  0.030796    0.171365  1.322437\n",
            "14      (mineral water)               (eggs)  0.050927    0.213647  1.188845\n",
            "15               (eggs)      (mineral water)  0.050927    0.283383  1.188845\n",
            "16          (spaghetti)               (eggs)  0.036528    0.209801  1.167446\n",
            "17               (eggs)          (spaghetti)  0.036528    0.203264  1.167446\n",
            "18  (frozen vegetables)      (mineral water)  0.035729    0.374825  1.572463\n",
            "19      (mineral water)  (frozen vegetables)  0.035729    0.149888  1.572463\n",
            "20      (mineral water)        (ground beef)  0.040928    0.171700  1.747522\n",
            "21        (ground beef)      (mineral water)  0.040928    0.416554  1.747522\n",
            "22          (spaghetti)        (ground beef)  0.039195    0.225115  2.291162\n",
            "23        (ground beef)          (spaghetti)  0.039195    0.398915  2.291162\n",
            "24      (mineral water)               (milk)  0.047994    0.201342  1.553774\n",
            "25               (milk)      (mineral water)  0.047994    0.370370  1.553774\n",
            "26          (spaghetti)               (milk)  0.035462    0.203675  1.571779\n",
            "27               (milk)          (spaghetti)  0.035462    0.273663  1.571779\n",
            "28           (pancakes)      (mineral water)  0.033729    0.354839  1.488616\n",
            "29      (mineral water)           (pancakes)  0.033729    0.141499  1.488616\n",
            "30          (spaghetti)      (mineral water)  0.059725    0.343032  1.439085\n",
            "31      (mineral water)          (spaghetti)  0.059725    0.250559  1.439085\n"
          ]
        }
      ]
    },
    {
      "cell_type": "code",
      "source": [
        "# Step 9: Interpret rules\n",
        "print(\"\\n=== INTERPRETATION OF RULES ===\")\n",
        "for idx, row in rules.iterrows():\n",
        "    antecedents = ', '.join(list(row['antecedents']))\n",
        "    consequents = ', '.join(list(row['consequents']))\n",
        "    print(f\"If a customer buys [{antecedents}], they are likely to also buy [{consequents}] \"\n",
        "          f\"(support = {row['support']:.2f}, confidence = {row['confidence']:.2f}, lift = {row['lift']:.2f})\")"
      ],
      "metadata": {
        "colab": {
          "base_uri": "https://localhost:8080/"
        },
        "id": "DsEApdLw5t55",
        "outputId": "7d34e099-8e1d-4e42-8652-8e89818ffe80"
      },
      "execution_count": 16,
      "outputs": [
        {
          "output_type": "stream",
          "name": "stdout",
          "text": [
            "\n",
            "=== INTERPRETATION OF RULES ===\n",
            "If a customer buys [chocolate], they are likely to also buy [eggs] (support = 0.03, confidence = 0.20, lift = 1.13)\n",
            "If a customer buys [eggs], they are likely to also buy [chocolate] (support = 0.03, confidence = 0.18, lift = 1.13)\n",
            "If a customer buys [chocolate], they are likely to also buy [french fries] (support = 0.03, confidence = 0.21, lift = 1.23)\n",
            "If a customer buys [french fries], they are likely to also buy [chocolate] (support = 0.03, confidence = 0.20, lift = 1.23)\n",
            "If a customer buys [chocolate], they are likely to also buy [milk] (support = 0.03, confidence = 0.20, lift = 1.51)\n",
            "If a customer buys [milk], they are likely to also buy [chocolate] (support = 0.03, confidence = 0.25, lift = 1.51)\n",
            "If a customer buys [mineral water], they are likely to also buy [chocolate] (support = 0.05, confidence = 0.22, lift = 1.35)\n",
            "If a customer buys [chocolate], they are likely to also buy [mineral water] (support = 0.05, confidence = 0.32, lift = 1.35)\n",
            "If a customer buys [spaghetti], they are likely to also buy [chocolate] (support = 0.04, confidence = 0.23, lift = 1.37)\n",
            "If a customer buys [chocolate], they are likely to also buy [spaghetti] (support = 0.04, confidence = 0.24, lift = 1.37)\n",
            "If a customer buys [french fries], they are likely to also buy [eggs] (support = 0.04, confidence = 0.21, lift = 1.18)\n",
            "If a customer buys [eggs], they are likely to also buy [french fries] (support = 0.04, confidence = 0.20, lift = 1.18)\n",
            "If a customer buys [milk], they are likely to also buy [eggs] (support = 0.03, confidence = 0.24, lift = 1.32)\n",
            "If a customer buys [eggs], they are likely to also buy [milk] (support = 0.03, confidence = 0.17, lift = 1.32)\n",
            "If a customer buys [mineral water], they are likely to also buy [eggs] (support = 0.05, confidence = 0.21, lift = 1.19)\n",
            "If a customer buys [eggs], they are likely to also buy [mineral water] (support = 0.05, confidence = 0.28, lift = 1.19)\n",
            "If a customer buys [spaghetti], they are likely to also buy [eggs] (support = 0.04, confidence = 0.21, lift = 1.17)\n",
            "If a customer buys [eggs], they are likely to also buy [spaghetti] (support = 0.04, confidence = 0.20, lift = 1.17)\n",
            "If a customer buys [frozen vegetables], they are likely to also buy [mineral water] (support = 0.04, confidence = 0.37, lift = 1.57)\n",
            "If a customer buys [mineral water], they are likely to also buy [frozen vegetables] (support = 0.04, confidence = 0.15, lift = 1.57)\n",
            "If a customer buys [mineral water], they are likely to also buy [ground beef] (support = 0.04, confidence = 0.17, lift = 1.75)\n",
            "If a customer buys [ground beef], they are likely to also buy [mineral water] (support = 0.04, confidence = 0.42, lift = 1.75)\n",
            "If a customer buys [spaghetti], they are likely to also buy [ground beef] (support = 0.04, confidence = 0.23, lift = 2.29)\n",
            "If a customer buys [ground beef], they are likely to also buy [spaghetti] (support = 0.04, confidence = 0.40, lift = 2.29)\n",
            "If a customer buys [mineral water], they are likely to also buy [milk] (support = 0.05, confidence = 0.20, lift = 1.55)\n",
            "If a customer buys [milk], they are likely to also buy [mineral water] (support = 0.05, confidence = 0.37, lift = 1.55)\n",
            "If a customer buys [spaghetti], they are likely to also buy [milk] (support = 0.04, confidence = 0.20, lift = 1.57)\n",
            "If a customer buys [milk], they are likely to also buy [spaghetti] (support = 0.04, confidence = 0.27, lift = 1.57)\n",
            "If a customer buys [pancakes], they are likely to also buy [mineral water] (support = 0.03, confidence = 0.35, lift = 1.49)\n",
            "If a customer buys [mineral water], they are likely to also buy [pancakes] (support = 0.03, confidence = 0.14, lift = 1.49)\n",
            "If a customer buys [spaghetti], they are likely to also buy [mineral water] (support = 0.06, confidence = 0.34, lift = 1.44)\n",
            "If a customer buys [mineral water], they are likely to also buy [spaghetti] (support = 0.06, confidence = 0.25, lift = 1.44)\n"
          ]
        }
      ]
    },
    {
      "cell_type": "markdown",
      "source": [
        "#1. What is lift and why is it important in association rules?\n",
        "Lift tells us how much more likely two items are bought together compared to just by chance.\n",
        "If the lift value is more than 1, it means there’s a strong relationship between the items.\n",
        "It's important because it helps us find meaningful patterns that are not just random.\n",
        "\n",
        "\n",
        "\n",
        "# What is support and confidence? How do you calculate them?\n",
        "\n",
        "Support shows how often an item or group of items appears in the dataset.\n",
        "\n",
        "Confidence tells us how often one item is bought when another item is already bought.\n",
        "These values help us choose the most useful and reliable rules from the data.\n",
        "\n",
        "\n",
        "#3. What are some limitations or challenges of Association Rule Mining?\n",
        "\n",
        "It can create too many rules, which can be overwhelming.\n",
        "\n",
        "Some rules may not be useful or interesting.\n",
        "\n",
        "It does not show cause-and-effect, just patterns.\n",
        "\n",
        "It can be slow or use a lot of memory on large datasets.\n",
        "\n",
        "You need to choose good minimum values for support and confidence to get better results."
      ],
      "metadata": {
        "id": "-ZNHSyeV6XH_"
      }
    },
    {
      "cell_type": "code",
      "source": [],
      "metadata": {
        "id": "1dCvPegf6AzI"
      },
      "execution_count": null,
      "outputs": []
    }
  ]
}